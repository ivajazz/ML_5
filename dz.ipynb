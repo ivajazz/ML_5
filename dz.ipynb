{
 "cells": [
  {
   "cell_type": "code",
   "execution_count": 5,
   "id": "6b8c8868",
   "metadata": {},
   "outputs": [],
   "source": [
    "import pandas as pd\n",
    "import numpy as np\n",
    "import matplotlib.pyplot as plt\n",
    "import seaborn as sns\n",
    "\n",
    "from sklearn import metrics\n",
    "from sklearn import model_selection\n",
    "from sklearn import linear_model\n",
    "from sklearn import tree\n",
    "from sklearn import datasets\n",
    "from imblearn.over_sampling import SMOTE\n",
    "plt.style.use('seaborn-v0_8')\n",
    "%matplotlib inline"
   ]
  },
  {
   "cell_type": "code",
   "execution_count": 8,
   "id": "5adf7b56",
   "metadata": {},
   "outputs": [
    {
     "name": "stdout",
     "output_type": "stream",
     "text": [
      "Train shape before oversampling: (160, 2)\n",
      "Class balance before oversampling: \n",
      "0    144\n",
      "1     16\n",
      "Name: count, dtype: int64\n",
      "----------------------------------------\n",
      "Train shape after oversampling: (288, 2)\n",
      "Class balance after oversampling: \n",
      "0    144\n",
      "1    144\n",
      "Name: count, dtype: int64\n",
      "              precision    recall  f1-score   support\n",
      "\n",
      "           0       0.97      0.83      0.90        36\n",
      "           1       0.33      0.75      0.46         4\n",
      "\n",
      "    accuracy                           0.82        40\n",
      "   macro avg       0.65      0.79      0.68        40\n",
      "weighted avg       0.90      0.82      0.85        40\n",
      "\n"
     ]
    }
   ],
   "source": [
    "X, y = datasets.make_classification(\n",
    "    n_samples=200,\n",
    "    n_features=2,\n",
    "    n_informative=2,\n",
    "    n_redundant=0,\n",
    "    n_classes=2,\n",
    "    weights=[1, 0.2],\n",
    "    random_state=40\n",
    ")\n",
    "X = pd.DataFrame(X, columns=['feature_1', 'feature_2'])\n",
    "y = pd.Series(y)\n",
    "sm = SMOTE(random_state=42)\n",
    "X_train, X_valid, y_train, y_valid = model_selection.train_test_split(X, y, stratify=y, test_size=0.2, random_state=42)\n",
    "\n",
    "X_train_s, y_train_s = sm.fit_resample(X_train, y_train)\n",
    "print('Train shape before oversampling:', X_train.shape)\n",
    "print('Class balance before oversampling: \\n', y_train.value_counts(), sep='')\n",
    "print('-'*40)\n",
    "print('Train shape after oversampling:', X_train_s.shape)\n",
    "print('Class balance after oversampling: \\n', y_train_s.value_counts(), sep='')\n",
    "model = linear_model.LogisticRegression(class_weight='balanced')\n",
    "model.fit(X_train, y_train)\n",
    "\n",
    "y_valid_pred = model.predict(X_valid)\n",
    "print(metrics.classification_report(y_valid, y_valid_pred))"
   ]
  }
 ],
 "metadata": {
  "kernelspec": {
   "display_name": "base",
   "language": "python",
   "name": "python3"
  },
  "language_info": {
   "codemirror_mode": {
    "name": "ipython",
    "version": 3
   },
   "file_extension": ".py",
   "mimetype": "text/x-python",
   "name": "python",
   "nbconvert_exporter": "python",
   "pygments_lexer": "ipython3",
   "version": "3.12.7"
  }
 },
 "nbformat": 4,
 "nbformat_minor": 5
}
